{
 "cells": [
  {
   "cell_type": "markdown",
   "metadata": {},
   "source": [
    "It looks like jumping into opencv so early, isn't a good idea, so I will take an alternative way... To simulate the detection of a passenger getting in the vehicle, I will use a random numpy array of 3x3 with the next condition: if all the columns, rows and diagonals sums the same valuw, it is going to be true, and a passenger-get-in-signal will be send."
   ]
  },
  {
   "cell_type": "code",
   "execution_count": 14,
   "metadata": {},
   "outputs": [
    {
     "name": "stdout",
     "output_type": "stream",
     "text": [
      "[[2 2 2]\n",
      " [3 1 1]\n",
      " [1 3 3]]\n",
      "6\n"
     ]
    }
   ],
   "source": [
    "import numpy as np\n",
    "\n",
    "GIGO = np.random.randint (1, 4, (3, 3))\n",
    "print (GIGO)\n",
    "\n",
    "reduction = np.zeros ((1, 3))\n",
    "\n",
    "for i, r in zip (GIGO, reduction) :\n",
    "    r = np.sum (i)\n",
    "    print (r)\n",
    "    #if r.index != r.index - 1 :\n",
    "        #print (False)\n",
    "        #break"
   ]
  }
 ],
 "metadata": {
  "kernelspec": {
   "display_name": "Python 3.10.6 ('pubTran')",
   "language": "python",
   "name": "python3"
  },
  "language_info": {
   "codemirror_mode": {
    "name": "ipython",
    "version": 3
   },
   "file_extension": ".py",
   "mimetype": "text/x-python",
   "name": "python",
   "nbconvert_exporter": "python",
   "pygments_lexer": "ipython3",
   "version": "3.10.6"
  },
  "orig_nbformat": 4,
  "vscode": {
   "interpreter": {
    "hash": "be30ef87d3afae0ceb8aed6b196de1589e68f39d68263a698f9a8e893dca7ae9"
   }
  }
 },
 "nbformat": 4,
 "nbformat_minor": 2
}
