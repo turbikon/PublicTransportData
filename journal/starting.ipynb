{
 "cells": [
  {
   "cell_type": "markdown",
   "metadata": {},
   "source": [
    "\n",
    "## Planning proyect"
   ]
  },
  {
   "cell_type": "markdown",
   "metadata": {},
   "source": [
    "Firstly, it is necessary to define the relevant information to measure...\n",
    "Secondly, it is important to notice that information need to be collected following the next abstraction levels: per vehicle, per user, per path bucle, per day, etc..."
   ]
  },
  {
   "cell_type": "markdown",
   "metadata": {},
   "source": [
    "Let create descriptive data firstly"
   ]
  },
  {
   "cell_type": "markdown",
   "metadata": {},
   "source": [
    "owner = {\n",
    "    name,\n",
    "    union\n",
    "}"
   ]
  },
  {
   "cell_type": "markdown",
   "metadata": {},
   "source": [
    "driver = {\n",
    "    name,\n",
    "    license {\n",
    "        unique_id,\n",
    "        issue_date,\n",
    "        expire_date\n",
    "    }\n",
    "}"
   ]
  },
  {
   "cell_type": "markdown",
   "metadata": {},
   "source": [
    "vehicle = {\n",
    "    capacity,\n",
    "    license {\n",
    "        unique_id,\n",
    "        economical_number,\n",
    "        route_id\n",
    "    },\n",
    "    monitoring_system {\n",
    "        cam_system_id,\n",
    "        gps_system_id,\n",
    "        payment_system_id,\n",
    "    }\n",
    "}"
   ]
  },
  {
   "cell_type": "markdown",
   "metadata": {},
   "source": [
    "A route is an ordered collection of coordinates which represents the planned path for the service. \n",
    "\n",
    "~~~\n",
    "Route = {\n",
    "    integer id,\n",
    "    string description,\n",
    "    Start route_start,\n",
    "    End route_end,\n",
    "    tuple points\n",
    "}\n",
    "~~~"
   ]
  },
  {
   "cell_type": "markdown",
   "metadata": {},
   "source": [
    "<br>\n",
    "The start of a route.\n",
    "\n",
    "~~~\n",
    "Start = {\n",
    "    integer id,\n",
    "    string description,\n",
    "    Area area\n",
    "}\n",
    "~~~"
   ]
  },
  {
   "cell_type": "markdown",
   "metadata": {},
   "source": [
    "<br>\n",
    "The end of a route.\n",
    "\n",
    "~~~\n",
    "End = {\n",
    "    integer id,\n",
    "    string description,\n",
    "    Area area\n",
    "}\n",
    "~~~"
   ]
  },
  {
   "cell_type": "markdown",
   "metadata": {},
   "source": [
    "<br>\n",
    "Zone contains area where vehicles get in to or get out from the vehicle.\n",
    "\n",
    "~~~\n",
    "Zone = {\n",
    "    integer id,\n",
    "    string description,\n",
    "    string clasification : ('stop','end','star','path')\n",
    "    Area area\n",
    "}\n",
    "~~~"
   ]
  },
  {
   "cell_type": "markdown",
   "metadata": {},
   "source": [
    "<br>\n",
    "The area object will containt an expression determining the zone around a specific point. Possibly, more than one geometry will be needed. How area will be defined? I don't know yet.\n",
    "\n",
    "~~~\n",
    "Area = {\n",
    "    tbd geometry\n",
    "}\n",
    "~~~"
   ]
  },
  {
   "cell_type": "markdown",
   "metadata": {},
   "source": [
    "<br>\n",
    "It could be unnecessary splitting latitude and longitud in different variables. It's going to be analysed later.\n",
    "\n",
    "~~~\n",
    "Coordinates = {\n",
    "    float latitude,\n",
    "    float longitude\n",
    "}\n",
    "~~~"
   ]
  },
  {
   "cell_type": "markdown",
   "metadata": {},
   "source": [
    "Observation : I was thinking about add an attribute on the stop-object reflecting how many passengers get-in on the vehicles along the day, but it is not right... it make more sense to evaluate this kind of results through a data analysis."
   ]
  },
  {
   "cell_type": "markdown",
   "metadata": {},
   "source": [
    "get_in = {\n",
    "    \n",
    "}"
   ]
  },
  {
   "cell_type": "markdown",
   "metadata": {},
   "source": [
    "passenger = {\n",
    "    id,\n",
    "    get_in_or_get_out\n",
    "    time_abording,\n",
    "    \n",
    "}"
   ]
  },
  {
   "cell_type": "markdown",
   "metadata": {},
   "source": [
    "~~~\n",
    "user = {\n",
    "    name :  \"a payment system could give this data\",\n",
    "    picture : \"a cam system could give this data\",\n",
    "    trip_start : \"a gps system could give this data\",\n",
    "    trip_end : \"a gps system could give this data\",\n",
    "    time_start : \"a gps system could give this data\",\n",
    "    time_end : \"a gps system could give this data\",\n",
    "    * payment : \"amount of money paid... there are 2 different types of payment to consider\",\n",
    "    \n",
    "}\n",
    "~~~"
   ]
  },
  {
   "cell_type": "markdown",
   "metadata": {},
   "source": [
    "~~~\n",
    "vehicle = {\n",
    "    id : \"unique\",\n",
    "    route : \"is it fixed or not\",\n",
    "    capacity : \"\",\n",
    "    driver : \"\",\n",
    "    \n",
    "}\n",
    "~~~"
   ]
  }
 ],
 "metadata": {
  "kernelspec": {
   "display_name": "Python 3.10.6 ('pubTran')",
   "language": "python",
   "name": "python3"
  },
  "language_info": {
   "name": "python",
   "version": "3.10.6"
  },
  "orig_nbformat": 4,
  "vscode": {
   "interpreter": {
    "hash": "be30ef87d3afae0ceb8aed6b196de1589e68f39d68263a698f9a8e893dca7ae9"
   }
  }
 },
 "nbformat": 4,
 "nbformat_minor": 2
}
